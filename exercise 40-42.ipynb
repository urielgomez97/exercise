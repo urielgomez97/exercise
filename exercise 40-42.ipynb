{
 "cells": [
  {
   "cell_type": "markdown",
   "metadata": {},
   "source": [
    "# EXERCISES 40-43\n"
   ]
  },
  {
   "cell_type": "markdown",
   "metadata": {},
   "source": [
    "## EXERCISE 40."
   ]
  },
  {
   "cell_type": "code",
   "execution_count": 1,
   "metadata": {},
   "outputs": [
    {
     "name": "stdout",
     "output_type": "stream",
     "text": [
      "I am a mechatronic!\n",
      "and now and always\n"
     ]
    }
   ],
   "source": [
    "class MyStuff(object):\n",
    "    \n",
    "    def __init__(self):\n",
    "        self.book = \"now and always\"\n",
    "\n",
    "    def pencil(self):\n",
    "        print(\"I am a mechatronic!\")\n",
    "        \n",
    "        \n",
    "thing = MyStuff()\n",
    "thing.pencil()\n",
    "print(thing.book)\n"
   ]
  },
  {
   "cell_type": "code",
   "execution_count": 5,
   "metadata": {},
   "outputs": [
    {
     "name": "stdout",
     "output_type": "stream",
     "text": [
      "\n",
      "Yeah, I'm gonna take my horse to the old town road\n",
      "I'm gonna ride 'til I can't no more\n",
      "I'm gonna take my horse to the old town road\n",
      "I'm gonna ride 'til I can't no more (Kio, Kio)\n",
      "\n",
      "Mama, just killed a man\n",
      "Put a gun against his head\n",
      "Pulled my trigger, now he´s dead\n",
      "Mama, life had just begun\n",
      "But now I´ve gone and thrown it all away\n"
     ]
    }
   ],
   "source": [
    "class Song(object):\n",
    "\n",
    "    def __init__(self, lyrics):\n",
    "        self.lyrics = lyrics\n",
    "\n",
    "    def sing_me_a_song(self):\n",
    "        for line in self.lyrics:\n",
    "            print(line)\n",
    "\n",
    "oldtownroad = Song([\"\\nYeah, I'm gonna take my horse to the old town road\",\n",
    "                    \"I'm gonna ride 'til I can't no more\",\n",
    "                    \"I'm gonna take my horse to the old town road\",\n",
    "                    \"I'm gonna ride 'til I can't no more (Kio, Kio)\"])\n",
    "\n",
    "BohemianRhapsody = Song([\"\\nMama, just killed a man\",\n",
    "                         \"Put a gun against his head\",\n",
    "                         \"Pulled my trigger, now he´s dead\",\n",
    "                         \"Mama, life had just begun\",\n",
    "                         \"But now I´ve gone and thrown it all away\"])\n",
    "\n",
    "oldtownroad.sing_me_a_song()\n",
    "\n",
    "BohemianRhapsody.sing_me_a_song()"
   ]
  },
  {
   "cell_type": "markdown",
   "metadata": {},
   "source": [
    "## EXERCISE 41."
   ]
  },
  {
   "cell_type": "code",
   "execution_count": null,
   "metadata": {},
   "outputs": [
    {
     "name": "stdout",
     "output_type": "stream",
     "text": [
      "class Amusement(Company):\n"
     ]
    }
   ],
   "source": [
    "import random\n",
    "from urllib.request import urlopen\n",
    "import sys\n",
    "\n",
    "WORD_URL = \"http://learncodethehardway.org/words.txt\"\n",
    "WORDS = []\n",
    "\n",
    "PHRASES = {\n",
    "    \"class %%%(%%%):\":\n",
    "      \"Make a class named %%% that is-a %%%.\",\n",
    "    \"class %%%(object):\\n\\tdef __init__(self, ***)\" :\n",
    "      \"class %%% has-a __init__ that takes self and *** parameters.\",\n",
    "    \"class %%%(object):\\n\\tdef ***(self, @@@)\":\n",
    "      \"class %%% has-a function named *** that takes self and @@@ parameters.\",\n",
    "    \"*** = %%%()\":\n",
    "      \"Set *** to an instance of class %%%.\",\n",
    "    \"***.***(@@@)\":\n",
    "      \"From *** get the *** function, and call it with parameters self, @@@.\",\n",
    "    \"***.*** = '***'\":\n",
    "      \"From *** get the *** attribute and set it to '***'.\"\n",
    "}\n",
    "\n",
    "# do they want to drill phrases first\n",
    "PHRASE_FIRST = False\n",
    "if len(sys.argv) == 2 and sys.argv[1] == \"english\":\n",
    "    PHRASE_FIRST = True\n",
    "\n",
    "# load up the words from the website\n",
    "for word in urlopen(WORD_URL).readlines():\n",
    "    WORDS.append(word.strip().decode(\"utf-8\"))\n",
    "\n",
    "def convert(snippet, phrase):\n",
    "    class_names = [w.capitalize() for w in random.sample(WORDS, snippet.count(\"%%%\"))]\n",
    "    other_names = random.sample(WORDS, snippet.count(\"***\"))\n",
    "    results = []\n",
    "    param_names = []\n",
    "\n",
    "    for i in range(0, snippet.count(\"@@@\")):\n",
    "        param_count = random.randint(1,3)\n",
    "        param_names.append(', '.join(random.sample(WORDS, param_count)))\n",
    "\n",
    "    for sentence in snippet, phrase:\n",
    "        result = sentence[:]\n",
    "\n",
    "        # fake class names\n",
    "        for word in class_names:\n",
    "            result = result.replace(\"%%%\", word, 1)\n",
    "\n",
    "        # fake other names\n",
    "        for word in other_names:\n",
    "            result = result.replace(\"***\", word, 1)\n",
    "\n",
    "        # fake parameter lists\n",
    "        for word in param_names:\n",
    "            result = result.replace(\"@@@\", word, 1)\n",
    "\n",
    "        results.append(result)\n",
    "\n",
    "    return results\n",
    "\n",
    "# keep going until they hit CTRL-D\n",
    "try:\n",
    "    while True:\n",
    "        snippets = list(PHRASES.keys())\n",
    "        random.shuffle(snippets)\n",
    "\n",
    "        for snippet in snippets:\n",
    "            phrase = PHRASES[snippet]\n",
    "            question, answer = convert(snippet, phrase)\n",
    "            if PHRASE_FIRST:\n",
    "                question, answer = answer, question\n",
    "\n",
    "            print(question)\n",
    "\n",
    "            input(\"> \")\n",
    "            print(\"ANSWER:  {answer}\\n\\n\")\n",
    "except EOFError:\n",
    "    print(\"\\nBye\")"
   ]
  },
  {
   "cell_type": "markdown",
   "metadata": {},
   "source": [
    "## EXERCISE 42."
   ]
  },
  {
   "cell_type": "code",
   "execution_count": 35,
   "metadata": {},
   "outputs": [],
   "source": [
    "##Animal is-a object look at the extra credit\n",
    "class Animal(object):\n",
    "    pass\n",
    "\n",
    "\n",
    "class bear(Animal):\n",
    "    \n",
    "    def __init__(self,name):\n",
    "        ## self has-a object name\n",
    "        self.name = name\n",
    "        \n",
    "## lion has \n",
    "class lion(Animal):\n",
    "    def __init__(self, name):\n",
    "        self.name = name\n",
    "\n",
    "class Person(object):\n",
    "    def __init__(self, name):\n",
    "        self.name = name\n",
    "        self.pet = None\n",
    "class Employee(Person):\n",
    "    def __init__(self, name, salary):\n",
    "        super(Employee, self).__init__(name)\n",
    "        self.salary = salary\n",
    "        \n",
    "class Fish(object):\n",
    "    pass\n",
    "\n",
    "class Salmon(Fish):\n",
    "    pass\n",
    "class Halibut(Fish):\n",
    "    pass\n",
    "\n",
    "rover = Dog(\"Rover\")\n",
    "mary = Person(\"Mary\")\n",
    "mary.pet = \"satan\"\n",
    "frank = Employee(\"Frank\", 120000)\n",
    "frank.pet = rover\n",
    "flipper = Fish()\n",
    "crouse = Salmon()\n",
    "harry = Halibut()"
   ]
  },
  {
   "cell_type": "code",
   "execution_count": null,
   "metadata": {},
   "outputs": [],
   "source": []
  }
 ],
 "metadata": {
  "kernelspec": {
   "display_name": "Python 3",
   "language": "python",
   "name": "python3"
  },
  "language_info": {
   "codemirror_mode": {
    "name": "ipython",
    "version": 3
   },
   "file_extension": ".py",
   "mimetype": "text/x-python",
   "name": "python",
   "nbconvert_exporter": "python",
   "pygments_lexer": "ipython3",
   "version": "3.7.3"
  }
 },
 "nbformat": 4,
 "nbformat_minor": 2
}
